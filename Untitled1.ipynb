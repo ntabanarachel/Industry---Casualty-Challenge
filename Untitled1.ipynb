{
 "cells": [
  {
   "cell_type": "markdown",
   "id": "694a92b0",
   "metadata": {},
   "source": [
    "CAUSAL INFERENCE\n",
    "This analysis will use the Wisconsin cancer dataset to perform causal inference. We will be plotting causal graphs to determine the relationships between variables, both independent and dependent. The causal graph should give an idea of which independent variables directly affect the dependent variable. We will compare a model trained on all the variables and a model trained based on the variables chosen from the causal graph using evaluation metrics from the confusion matrix.\n",
    "\n",
    "First, we will perform data exploration and any necessary cleaning. The data exploration will give an initial idea about how the variables relate to each other from the observed data."
   ]
  },
  {
   "cell_type": "code",
   "execution_count": 3,
   "id": "e4b8bd4f",
   "metadata": {},
   "outputs": [
    {
     "name": "stdout",
     "output_type": "stream",
     "text": [
      "Requirement already satisfied: causalgraphicalmodels in c:\\programdata\\anaconda3\\lib\\site-packages (0.0.4)\n",
      "Requirement already satisfied: networkx in c:\\programdata\\anaconda3\\lib\\site-packages (from causalgraphicalmodels) (2.5)\n",
      "Requirement already satisfied: numpy in c:\\programdata\\anaconda3\\lib\\site-packages (from causalgraphicalmodels) (1.20.1)\n",
      "Requirement already satisfied: pandas in c:\\programdata\\anaconda3\\lib\\site-packages (from causalgraphicalmodels) (1.2.4)\n",
      "Requirement already satisfied: graphviz in c:\\programdata\\anaconda3\\lib\\site-packages (from causalgraphicalmodels) (0.17)\n",
      "Requirement already satisfied: decorator>=4.3.0 in c:\\programdata\\anaconda3\\lib\\site-packages (from networkx->causalgraphicalmodels) (5.0.6)\n",
      "Requirement already satisfied: pytz>=2017.3 in c:\\programdata\\anaconda3\\lib\\site-packages (from pandas->causalgraphicalmodels) (2021.1)\n",
      "Requirement already satisfied: python-dateutil>=2.7.3 in c:\\programdata\\anaconda3\\lib\\site-packages (from pandas->causalgraphicalmodels) (2.8.1)\n",
      "Requirement already satisfied: six>=1.5 in c:\\programdata\\anaconda3\\lib\\site-packages (from python-dateutil>=2.7.3->pandas->causalgraphicalmodels) (1.15.0)\n"
     ]
    }
   ],
   "source": [
    "!pip install causalgraphicalmodels"
   ]
  },
  {
   "cell_type": "code",
   "execution_count": 13,
   "id": "ce396310",
   "metadata": {},
   "outputs": [
    {
     "name": "stderr",
     "output_type": "stream",
     "text": [
      "'apt' is not recognized as an internal or external command,\n",
      "operable program or batch file.\n"
     ]
    }
   ],
   "source": [
    "! apt install libgraphviz-dev"
   ]
  },
  {
   "cell_type": "code",
   "execution_count": null,
   "id": "aa826870",
   "metadata": {},
   "outputs": [],
   "source": []
  }
 ],
 "metadata": {
  "kernelspec": {
   "display_name": "Python 3",
   "language": "python",
   "name": "python3"
  },
  "language_info": {
   "codemirror_mode": {
    "name": "ipython",
    "version": 3
   },
   "file_extension": ".py",
   "mimetype": "text/x-python",
   "name": "python",
   "nbconvert_exporter": "python",
   "pygments_lexer": "ipython3",
   "version": "3.8.8"
  }
 },
 "nbformat": 4,
 "nbformat_minor": 5
}
